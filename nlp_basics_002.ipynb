{
  "nbformat": 4,
  "nbformat_minor": 0,
  "metadata": {
    "colab": {
      "provenance": [],
      "authorship_tag": "ABX9TyN+dL+SCnve+Oz6967mKDAH",
      "include_colab_link": true
    },
    "kernelspec": {
      "name": "python3",
      "display_name": "Python 3"
    },
    "language_info": {
      "name": "python"
    }
  },
  "cells": [
    {
      "cell_type": "markdown",
      "metadata": {
        "id": "view-in-github",
        "colab_type": "text"
      },
      "source": [
        "<a href=\"https://colab.research.google.com/github/roi-mason/nlp-basics/blob/main/nlp_basics_002.ipynb\" target=\"_parent\"><img src=\"https://colab.research.google.com/assets/colab-badge.svg\" alt=\"Open In Colab\"/></a>"
      ]
    },
    {
      "cell_type": "markdown",
      "source": [
        "# nlp **basics**\n",
        "\n",
        "# 자연어처리 **기초**\n",
        "\n",
        "* 예제로 배우는 자연어 처리 기초\n",
        "  - NLP 알고리즘, 텍스트 분류와 요약, 감성 분석\n",
        "  - 쇼홈 고시 , 드와이트 거닝 (2020)\n",
        "  - 에이콘 출판\n",
        "\n"
      ],
      "metadata": {
        "id": "8Grkf89dk9F-"
      }
    },
    {
      "cell_type": "markdown",
      "source": [
        "# 어간추출\n",
        "  - * p. 80~85\n",
        "# 형태소 단점: 어간에 아무런 의미가 없는 경우 발생\n",
        "  - sanit, independ 등\n",
        "  - 대안 --> 표제어 추출\n",
        "* 형태소분석 = 원래 형태의 단어로 복원하는 과정 = 어간추출\n",
        "  - RegexpStemmer\n",
        "  - PorterStemmer\n",
        "\n"
      ],
      "metadata": {
        "id": "OpMbPsublLgU"
      }
    },
    {
      "cell_type": "markdown",
      "source": [
        "# 예제 16: RegexpStemmer를 사용\n",
        "* 진행형 형태의 단어를 기본 단어로 변환\n"
      ],
      "metadata": {
        "id": "WVKfzVmhmb10"
      }
    },
    {
      "cell_type": "code",
      "execution_count": null,
      "metadata": {
        "id": "rw3c6zd0k5ny"
      },
      "outputs": [],
      "source": [
        "sentence = \"I love playing football\""
      ]
    },
    {
      "cell_type": "code",
      "source": [
        "# regex_stemmer\n",
        "# 어간 추출\n",
        "\n",
        "from nltk.stem import RegexpStemmer\n",
        "regex_stemmer = RegexpStemmer('ing$', min=4)\n",
        "' '.join([regex_stemmer.stem(wd) for wd in sentence.split()])"
      ],
      "metadata": {
        "colab": {
          "base_uri": "https://localhost:8080/",
          "height": 36
        },
        "id": "K4sm2Kkhk_Y-",
        "outputId": "ed172b99-ec51-4e74-bd58-53623a341e23"
      },
      "execution_count": null,
      "outputs": [
        {
          "output_type": "execute_result",
          "data": {
            "text/plain": [
              "'I love play football'"
            ],
            "application/vnd.google.colaboratory.intrinsic+json": {
              "type": "string"
            }
          },
          "metadata": {},
          "execution_count": 3
        }
      ]
    },
    {
      "cell_type": "markdown",
      "source": [
        "# **포터** **형태소** **분석기**"
      ],
      "metadata": {
        "id": "WJ8--BfEmzZI"
      }
    },
    {
      "cell_type": "markdown",
      "source": [
        "# 예제 17: 포터 형태소 분석기"
      ],
      "metadata": {
        "id": "9YMMQkpSnCRu"
      }
    },
    {
      "cell_type": "code",
      "source": [
        "# PorterStemmer\n",
        "\n",
        "sentence = \"Before eating, it would be nice to sanitize your hand with a sanitizer.\"\n",
        "\n",
        "from nltk.stem.porter import *"
      ],
      "metadata": {
        "id": "LKYfnTx0k_WK"
      },
      "execution_count": null,
      "outputs": []
    },
    {
      "cell_type": "code",
      "source": [
        "# 형태소 분석 함수 사용\n",
        "\n",
        "ps_stemmer = PorterStemmer()\n",
        "' '.join([ps_stemmer.stem(wd) for wd in sentence.split()])"
      ],
      "metadata": {
        "colab": {
          "base_uri": "https://localhost:8080/",
          "height": 36
        },
        "id": "iTosspXek_TJ",
        "outputId": "d30acce5-6375-488d-b5ea-665f0fbb6f67"
      },
      "execution_count": null,
      "outputs": [
        {
          "output_type": "execute_result",
          "data": {
            "text/plain": [
              "'befor eating, it would be nice to sanit your hand with a sanitizer.'"
            ],
            "application/vnd.google.colaboratory.intrinsic+json": {
              "type": "string"
            }
          },
          "metadata": {},
          "execution_count": 8
        }
      ]
    },
    {
      "cell_type": "markdown",
      "source": [
        "# 표제어 **추출**"
      ],
      "metadata": {
        "id": "Wcde8c2nlAKM"
      }
    },
    {
      "cell_type": "markdown",
      "source": [
        "## 예제 18: 표제어 **추출**"
      ],
      "metadata": {
        "id": "DIe4_WPUlAmG"
      }
    },
    {
      "cell_type": "code",
      "source": [
        "# 표제어 추출\n",
        "\n",
        "import nltk\n",
        "from nltk.stem import WordNetLemmatizer\n",
        "from nltk import word_tokenize\n",
        "nltk.download('wordnet')\n",
        "nltk.download('punkt')\n",
        "lemmatizer = WordNetLemmatizer()\n",
        "sentence = 'The products produced by the process today are far better than what it produces generally.'\n"
      ],
      "metadata": {
        "colab": {
          "base_uri": "https://localhost:8080/"
        },
        "id": "Rv9WOlDtk_Ed",
        "outputId": "8967493e-3114-488b-d762-54c6498dbd77"
      },
      "execution_count": null,
      "outputs": [
        {
          "output_type": "stream",
          "name": "stderr",
          "text": [
            "[nltk_data] Downloading package wordnet to /root/nltk_data...\n",
            "[nltk_data]   Package wordnet is already up-to-date!\n",
            "[nltk_data] Downloading package punkt to /root/nltk_data...\n",
            "[nltk_data]   Unzipping tokenizers/punkt.zip.\n"
          ]
        }
      ]
    },
    {
      "cell_type": "code",
      "source": [
        "# 추출한 토큰의 표제어 추출\n",
        "\n",
        "' '.join([lemmatizer.lemmatize(word) for word in word_tokenize(sentence)])"
      ],
      "metadata": {
        "colab": {
          "base_uri": "https://localhost:8080/",
          "height": 36
        },
        "id": "SWPzXJ8Vk_CY",
        "outputId": "231549b0-2d40-4496-9c92-db78e705941f"
      },
      "execution_count": null,
      "outputs": [
        {
          "output_type": "execute_result",
          "data": {
            "text/plain": [
              "'The product produced by the process today are far better than what it produce generally .'"
            ],
            "application/vnd.google.colaboratory.intrinsic+json": {
              "type": "string"
            }
          },
          "metadata": {},
          "execution_count": 14
        }
      ]
    },
    {
      "cell_type": "markdown",
      "source": [
        "# 예제 19: 단어의 단수화와 복수화\n",
        "* TextBlob 라이브러리"
      ],
      "metadata": {
        "id": "sxmw9eTesxwl"
      }
    },
    {
      "cell_type": "code",
      "source": [
        "# TextBlob 사용\n",
        "\n",
        "from textblob import TextBlob\n",
        "sentence = TextBlob('She sells seashells on the seashore.')\n"
      ],
      "metadata": {
        "id": "lPmtYkn1k--M"
      },
      "execution_count": null,
      "outputs": []
    },
    {
      "cell_type": "code",
      "source": [
        "# 문장이 단어 리스트\n",
        "\n",
        "sentence.split()"
      ],
      "metadata": {
        "colab": {
          "base_uri": "https://localhost:8080/"
        },
        "id": "oCvwZkjXk-7h",
        "outputId": "9c9d8951-52a2-4fc0-8071-6286ee00fc25"
      },
      "execution_count": null,
      "outputs": [
        {
          "output_type": "execute_result",
          "data": {
            "text/plain": [
              "WordList(['She', 'sells', 'seashells', 'on', 'the', 'seashore.'])"
            ]
          },
          "metadata": {},
          "execution_count": 23
        }
      ]
    },
    {
      "cell_type": "markdown",
      "source": [
        "# 목록에서 특정 단어를 **단수|복수처리**"
      ],
      "metadata": {
        "id": "Q3zdXNFCtyVl"
      }
    },
    {
      "cell_type": "code",
      "source": [
        "# 두 번째 단어(seashells) 단수화\n",
        "\n",
        "sentence.words[2].singularize()"
      ],
      "metadata": {
        "colab": {
          "base_uri": "https://localhost:8080/",
          "height": 36
        },
        "id": "jnhifV_Fk-4r",
        "outputId": "e7402d55-25fc-4421-f5dc-e95f9c8374e2"
      },
      "execution_count": null,
      "outputs": [
        {
          "output_type": "execute_result",
          "data": {
            "text/plain": [
              "'seashell'"
            ],
            "application/vnd.google.colaboratory.intrinsic+json": {
              "type": "string"
            }
          },
          "metadata": {},
          "execution_count": 24
        }
      ]
    },
    {
      "cell_type": "code",
      "source": [
        "#  다섯 번째 단어(seashore) 복수처리\n",
        "\n",
        "sentence.words[5].pluralize()"
      ],
      "metadata": {
        "colab": {
          "base_uri": "https://localhost:8080/",
          "height": 36
        },
        "id": "SfnlVWMZk-1c",
        "outputId": "dd80eacd-53bd-4703-f66e-2d1c2fe9a19a"
      },
      "execution_count": null,
      "outputs": [
        {
          "output_type": "execute_result",
          "data": {
            "text/plain": [
              "'seashores'"
            ],
            "application/vnd.google.colaboratory.intrinsic+json": {
              "type": "string"
            }
          },
          "metadata": {},
          "execution_count": 25
        }
      ]
    }
  ]
}
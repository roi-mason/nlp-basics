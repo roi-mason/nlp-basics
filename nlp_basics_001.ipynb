{
  "nbformat": 4,
  "nbformat_minor": 0,
  "metadata": {
    "colab": {
      "provenance": [],
      "authorship_tag": "ABX9TyPg0eUH48ItIRzAlCH0zCsY",
      "include_colab_link": true
    },
    "kernelspec": {
      "name": "python3",
      "display_name": "Python 3"
    },
    "language_info": {
      "name": "python"
    }
  },
  "cells": [
    {
      "cell_type": "markdown",
      "metadata": {
        "id": "view-in-github",
        "colab_type": "text"
      },
      "source": [
        "<a href=\"https://colab.research.google.com/github/roi-mason/nlp-basics/blob/main/nlp_basics_001.ipynb\" target=\"_parent\"><img src=\"https://colab.research.google.com/assets/colab-badge.svg\" alt=\"Open In Colab\"/></a>"
      ]
    },
    {
      "cell_type": "markdown",
      "source": [
        "# nlp **basics**\n",
        "\n",
        "# 자연어처리 **기초**\n",
        "\n",
        "* 예제로 배우는 자연어 처리 기초\n",
        "  - NLP 알고리즘, 텍스트 분류와 요약, 감성 분석\n",
        "  - 쇼홈 고시 , 드와이트 거닝 (2020)\n",
        "  - 에이콘 출판\n"
      ],
      "metadata": {
        "id": "jLSCIvOX5SVA"
      }
    },
    {
      "cell_type": "markdown",
      "source": [
        "# 12: 텍스트 정제와 **토큰화**\n",
        "* p. 64"
      ],
      "metadata": {
        "id": "7nKvSs4K5zF5"
      }
    },
    {
      "cell_type": "code",
      "execution_count": 4,
      "metadata": {
        "id": "yvexlQgK5O9_",
        "colab": {
          "base_uri": "https://localhost:8080/"
        },
        "outputId": "ca0f8702-b779-48a3-800c-3ce547d65224"
      },
      "outputs": [
        {
          "output_type": "execute_result",
          "data": {
            "text/plain": [
              "['One',\n",
              " 'morning',\n",
              " 'when',\n",
              " 'Gregor',\n",
              " 'Samsa',\n",
              " 'woke',\n",
              " 'from',\n",
              " 'troubled',\n",
              " 'dreams',\n",
              " 'he',\n",
              " 'found',\n",
              " 'himself',\n",
              " 'transformed',\n",
              " 'in',\n",
              " 'his',\n",
              " 'bed',\n",
              " 'into',\n",
              " 'a',\n",
              " 'horrible',\n",
              " 'vermin',\n",
              " 'He',\n",
              " 'lay',\n",
              " 'on',\n",
              " 'his',\n",
              " 'armour',\n",
              " 'like',\n",
              " 'back',\n",
              " 'and',\n",
              " 'if',\n",
              " '29857',\n",
              " 'he',\n",
              " 'lifted',\n",
              " 'his',\n",
              " 'head',\n",
              " 'a',\n",
              " 'little',\n",
              " 'he',\n",
              " 'could',\n",
              " 'see',\n",
              " 'his',\n",
              " 'brown',\n",
              " 'belly',\n",
              " 'slightly',\n",
              " 'domed',\n",
              " 'and',\n",
              " 'divided',\n",
              " 'by',\n",
              " 'arches',\n",
              " 'into',\n",
              " 'stiff',\n",
              " 'sections']"
            ]
          },
          "metadata": {},
          "execution_count": 4
        }
      ],
      "source": [
        "# 12: 텍스트 정제와 토큰화\n",
        "# sample sentence from The Project Gutenberg eBook of Metamorphosis with the some symbols or numbers I added\n",
        "\n",
        "\n",
        "import re\n",
        "sentence = '''\n",
        "One morning, when \"Gregor $$ Samsa\" woke from troubled dreams\\\\, he found\n",
        "himself transformed in his bed into a horrible vermin. ;;//\"\" \\\\ He lay on his\n",
        "armour-like back, and if 29857  he lifted his head #$ ~ a little he could see his\n",
        "brown belly, slightly domed and divided by arches into stiff sections.\n",
        "'''\n",
        "\n",
        "# 숫자, 알파벳 문자, 공백 문자이외의 모든 문자 제거\n",
        "# 숫자는 남겨짐!\n",
        "# 공백이 있는 곳마다 문자열 분할\n",
        "# 텍스트에서 토큰 추출\n",
        "re.sub(r'([^\\s\\w]|_)+', ' ', sentence).split()\n"
      ]
    },
    {
      "cell_type": "markdown",
      "source": [
        "# 예제 13: n-gram **추출**\n"
      ],
      "metadata": {
        "id": "8HjBQeNP8Uyg"
      }
    },
    {
      "cell_type": "code",
      "source": [],
      "metadata": {
        "id": "M07vSgyV8VYe"
      },
      "execution_count": null,
      "outputs": []
    },
    {
      "cell_type": "code",
      "source": [],
      "metadata": {
        "id": "awSYbm8D8Vq_"
      },
      "execution_count": null,
      "outputs": []
    },
    {
      "cell_type": "code",
      "source": [],
      "metadata": {
        "id": "CBinDRvy8WED"
      },
      "execution_count": null,
      "outputs": []
    }
  ]
}
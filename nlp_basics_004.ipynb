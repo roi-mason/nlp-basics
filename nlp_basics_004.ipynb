{
  "nbformat": 4,
  "nbformat_minor": 0,
  "metadata": {
    "colab": {
      "provenance": [],
      "authorship_tag": "ABX9TyPOkn7v60ftt6aj7GZwgeqq",
      "include_colab_link": true
    },
    "kernelspec": {
      "name": "python3",
      "display_name": "Python 3"
    },
    "language_info": {
      "name": "python"
    }
  },
  "cells": [
    {
      "cell_type": "markdown",
      "metadata": {
        "id": "view-in-github",
        "colab_type": "text"
      },
      "source": [
        "<a href=\"https://colab.research.google.com/github/roi-mason/nlp-basics/blob/main/nlp_basics_004.ipynb\" target=\"_parent\"><img src=\"https://colab.research.google.com/assets/colab-badge.svg\" alt=\"Open In Colab\"/></a>"
      ]
    },
    {
      "cell_type": "markdown",
      "source": [
        "# 텍스트에서 피처 **추출(1)**\n",
        "* pp. 87~91\n",
        "* 머신러닝에서는 수치형 feature만을 입력으로 사용\n",
        "* 텍스트를 다룰 때는\n",
        "- 일반적인 feature\n",
        "  - 텍스트 언어\n",
        "  - 총 단어 개수\n",
        "- 특수 feature\n",
        "  - BoW\n",
        "  - TF-IDF"
      ],
      "metadata": {
        "id": "dPaGfO6uKOVA"
      }
    },
    {
      "cell_type": "code",
      "execution_count": 8,
      "metadata": {
        "colab": {
          "base_uri": "https://localhost:8080/"
        },
        "id": "MUA3NKFFKK8h",
        "outputId": "4cd8f995-7302-4aab-c127-705d11cb0963"
      },
      "outputs": [
        {
          "output_type": "stream",
          "name": "stdout",
          "text": [
            "                                                text\n",
            "0  A Man and his Wife had the good fortune to pos...\n",
            "1  Lucky though they were, they soon began to thi...\n",
            "2  But when they cut it open they found it was ju...\n",
            "3  Thus, they neither got rich all at once, as th...\n",
            "4                     Much wants more and loses all.\n"
          ]
        }
      ],
      "source": [
        "# 원시 텍스트에서 일반적인 feature 추출\n",
        "# 예제 22 (pp. 88~91)\n",
        "\n",
        "import pandas as pd\n",
        "df = pd.DataFrame([[\"A Man and his Wife had the good fortune to possess a Goose which laid a Golden Egg every day.\"],\n",
        "[\"Lucky though they were, they soon began to think they were not getting rich fast enough, and, imagining the bird must be made of gold inside, they decided to kill it in order to secure the whole store of precious metal at once.\"],\n",
        "[\"But when they cut it open they found it was just like any other goose.\"],\n",
        "[\"Thus, they neither got rich all at once, as they had hoped, nor enjoyed any longer the daily addition to their wealth.\"],\n",
        "[\"Much wants more and loses all.\"]])\n",
        "\n",
        "df.columns = ['text']\n",
        "print(df)\n",
        "\n"
      ]
    },
    {
      "cell_type": "code",
      "source": [
        "# 텍스트의 단어 개수 추출\n",
        "# apply 함수 사용 (apply()는 pandas DataFrame을 사용해야 가능)\n",
        "# TextBlob 객체\n",
        "# lambda 함수 사용\n",
        "# **lambda 함수**\n",
        "# lambda 매개변수(인자) : 표현식\n",
        "# lambda argument: expression\n",
        "\n",
        "import nltk\n",
        "nltk.download('punkt')\n",
        "from textblob import TextBlob\n",
        "df['number_of_words'] = df['text'].apply(lambda x : len(TextBlob(str(x)).words))\n",
        "df['number_of_words']"
      ],
      "metadata": {
        "colab": {
          "base_uri": "https://localhost:8080/"
        },
        "id": "5QKMQVG9OuTd",
        "outputId": "c5e0d73b-e0f7-473e-f159-cca75deca05a"
      },
      "execution_count": 11,
      "outputs": [
        {
          "output_type": "stream",
          "name": "stderr",
          "text": [
            "[nltk_data] Downloading package punkt to /root/nltk_data...\n",
            "[nltk_data]   Unzipping tokenizers/punkt.zip.\n"
          ]
        },
        {
          "output_type": "execute_result",
          "data": {
            "text/plain": [
              "0    20\n",
              "1    43\n",
              "2    15\n",
              "3    22\n",
              "4     6\n",
              "Name: number_of_words, dtype: int64"
            ]
          },
          "metadata": {},
          "execution_count": 11
        }
      ]
    },
    {
      "cell_type": "code",
      "source": [
        "# 특정 단어 존재 확인\n",
        "# 'wh-' 로 시작하는 단어 확인\n",
        "wh_words = set(['why', 'who', 'which', 'what', 'where', 'when', 'how'])\n",
        "df['is_wh_words_present'] = df['text'].apply(lambda x: True if len(set(TextBlob(str(x)).words).intersection(wh_words)) > 0 else False)\n",
        "df['is_wh_words_present']"
      ],
      "metadata": {
        "colab": {
          "base_uri": "https://localhost:8080/"
        },
        "id": "BpLrvq0YOuQL",
        "outputId": "8f213e17-b925-4f1c-bc81-e2c7a86fcb5d"
      },
      "execution_count": 14,
      "outputs": [
        {
          "output_type": "execute_result",
          "data": {
            "text/plain": [
              "0     True\n",
              "1    False\n",
              "2     True\n",
              "3    False\n",
              "4    False\n",
              "Name: is_wh_words_present, dtype: bool"
            ]
          },
          "metadata": {},
          "execution_count": 14
        }
      ]
    },
    {
      "cell_type": "code",
      "source": [
        "# 텍스트 문장의 감성 점수 부여\n",
        "\n",
        "df['polarity'] = df['text'].apply(lambda x : TextBlob(str(x)).sentiment.polarity)\n",
        "df['polarity']"
      ],
      "metadata": {
        "colab": {
          "base_uri": "https://localhost:8080/"
        },
        "id": "taUV1xjnOuNQ",
        "outputId": "43836812-0fe9-4d33-d156-657659d25ea2"
      },
      "execution_count": 15,
      "outputs": [
        {
          "output_type": "execute_result",
          "data": {
            "text/plain": [
              "0    0.500000\n",
              "1    0.286905\n",
              "2   -0.062500\n",
              "3    0.291667\n",
              "4    0.133333\n",
              "Name: polarity, dtype: float64"
            ]
          },
          "metadata": {},
          "execution_count": 15
        }
      ]
    },
    {
      "cell_type": "code",
      "source": [
        "# 언어 구분\n",
        "# TextBlob의 detect_language()는 더 이상 유효하지 않음\n",
        "# langdetect로 교체해서 사용\n",
        "\n",
        "!pip install langdetect\n",
        "import langdetect\n",
        "\n",
        "df['language'] = df['text'].apply(lambda x: langdetect.detect(x))\n",
        "df['language']"
      ],
      "metadata": {
        "colab": {
          "base_uri": "https://localhost:8080/"
        },
        "id": "_qSZXKnIOuKE",
        "outputId": "e50c6e1d-033b-4ab8-8246-5533bd97f9fe"
      },
      "execution_count": 19,
      "outputs": [
        {
          "output_type": "stream",
          "name": "stdout",
          "text": [
            "Collecting langdetect\n",
            "  Downloading langdetect-1.0.9.tar.gz (981 kB)\n",
            "\u001b[2K     \u001b[90m━━━━━━━━━━━━━━━━━━━━━━━━━━━━━━━━━━━━━━━━\u001b[0m \u001b[32m981.5/981.5 kB\u001b[0m \u001b[31m6.0 MB/s\u001b[0m eta \u001b[36m0:00:00\u001b[0m\n",
            "\u001b[?25h  Preparing metadata (setup.py) ... \u001b[?25l\u001b[?25hdone\n",
            "Requirement already satisfied: six in /usr/local/lib/python3.10/dist-packages (from langdetect) (1.16.0)\n",
            "Building wheels for collected packages: langdetect\n",
            "  Building wheel for langdetect (setup.py) ... \u001b[?25l\u001b[?25hdone\n",
            "  Created wheel for langdetect: filename=langdetect-1.0.9-py3-none-any.whl size=993225 sha256=8b1f8f5c7c6a5c8d0cd84ba6f76de823c15c6166fc3f63862c1698b070941878\n",
            "  Stored in directory: /root/.cache/pip/wheels/95/03/7d/59ea870c70ce4e5a370638b5462a7711ab78fba2f655d05106\n",
            "Successfully built langdetect\n",
            "Installing collected packages: langdetect\n",
            "Successfully installed langdetect-1.0.9\n"
          ]
        },
        {
          "output_type": "execute_result",
          "data": {
            "text/plain": [
              "0    en\n",
              "1    en\n",
              "2    en\n",
              "3    en\n",
              "4    en\n",
              "Name: language, dtype: object"
            ]
          },
          "metadata": {},
          "execution_count": 19
        }
      ]
    },
    {
      "cell_type": "code",
      "source": [],
      "metadata": {
        "id": "hL0gSNWYOuCW"
      },
      "execution_count": null,
      "outputs": []
    }
  ]
}
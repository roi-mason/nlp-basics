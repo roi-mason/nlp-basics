{
  "nbformat": 4,
  "nbformat_minor": 0,
  "metadata": {
    "colab": {
      "provenance": [],
      "authorship_tag": "ABX9TyMbHGS/W/7T3QBfgXvITWWz",
      "include_colab_link": true
    },
    "kernelspec": {
      "name": "python3",
      "display_name": "Python 3"
    },
    "language_info": {
      "name": "python"
    }
  },
  "cells": [
    {
      "cell_type": "markdown",
      "metadata": {
        "id": "view-in-github",
        "colab_type": "text"
      },
      "source": [
        "<a href=\"https://colab.research.google.com/github/roi-mason/nlp-basics/blob/main/nlp_basics_003.ipynb\" target=\"_parent\"><img src=\"https://colab.research.google.com/assets/colab-badge.svg\" alt=\"Open In Colab\"/></a>"
      ]
    },
    {
      "cell_type": "markdown",
      "source": [
        "* 예제 20: 언어번역\n",
        "* 예제 21: 불용어제거\n",
        "* 불용어 추가\n",
        "* 불용어 제거 3가지 방법\n",
        "  - translate()\n",
        "  - regex\n",
        "  - replace()\n",
        "\n",
        "\n",
        "  - pp. 85~"
      ],
      "metadata": {
        "id": "Fm8WXpvTvZEv"
      }
    },
    {
      "cell_type": "markdown",
      "source": [
        "# 예제 20: **언어번역**"
      ],
      "metadata": {
        "id": "sGbZgOQYvnrj"
      }
    },
    {
      "cell_type": "code",
      "execution_count": null,
      "metadata": {
        "colab": {
          "base_uri": "https://localhost:8080/"
        },
        "id": "OtyydrqKvDJa",
        "outputId": "a093d7f2-a113-4505-df3e-650878ab36d9"
      },
      "outputs": [
        {
          "output_type": "execute_result",
          "data": {
            "text/plain": [
              "TextBlob(\"very good\")"
            ]
          },
          "metadata": {},
          "execution_count": 2
        }
      ],
      "source": [
        "# TextBlob 라이브러리 사용\n",
        "# translate 함수 사용\n",
        "# Spanish to English\n",
        "\n",
        "from textblob import TextBlob\n",
        "en_blob = TextBlob(u'muy bien')\n",
        "en_blob.translate(from_lang = 'es', to = 'en')\n"
      ]
    },
    {
      "cell_type": "markdown",
      "source": [
        "# 예제 21: 불용어 **제거**"
      ],
      "metadata": {
        "id": "Kg8TWMKcwvhe"
      }
    },
    {
      "cell_type": "code",
      "source": [
        "# 불용어 제거\n",
        "!pip install nltk\n",
        "import nltk\n",
        "nltk.download('punkt')\n",
        "from nltk import word_tokenize\n",
        "sentence = \"She sells seashells on the seashore.\"\n",
        "custom_stop_word_list = ['she', 'on', 'the', 'am', 'is', 'not']\n",
        "' '.join([word for word in word_tokenize(sentence) if word.lower() not in custom_stop_word_list])"
      ],
      "metadata": {
        "colab": {
          "base_uri": "https://localhost:8080/",
          "height": 187
        },
        "id": "XMrdHl-ZwuCX",
        "outputId": "e72d8064-2902-4430-f172-88d2262cb8b8"
      },
      "execution_count": null,
      "outputs": [
        {
          "output_type": "stream",
          "name": "stdout",
          "text": [
            "Requirement already satisfied: nltk in /usr/local/lib/python3.10/dist-packages (3.8.1)\n",
            "Requirement already satisfied: click in /usr/local/lib/python3.10/dist-packages (from nltk) (8.1.7)\n",
            "Requirement already satisfied: joblib in /usr/local/lib/python3.10/dist-packages (from nltk) (1.3.2)\n",
            "Requirement already satisfied: regex>=2021.8.3 in /usr/local/lib/python3.10/dist-packages (from nltk) (2023.6.3)\n",
            "Requirement already satisfied: tqdm in /usr/local/lib/python3.10/dist-packages (from nltk) (4.66.1)\n"
          ]
        },
        {
          "output_type": "stream",
          "name": "stderr",
          "text": [
            "[nltk_data] Downloading package punkt to /root/nltk_data...\n",
            "[nltk_data]   Package punkt is already up-to-date!\n"
          ]
        },
        {
          "output_type": "execute_result",
          "data": {
            "text/plain": [
              "'sells seashells seashore .'"
            ],
            "application/vnd.google.colaboratory.intrinsic+json": {
              "type": "string"
            }
          },
          "metadata": {},
          "execution_count": 11
        }
      ]
    },
    {
      "cell_type": "markdown",
      "source": [
        "# English stopwords **사용**"
      ],
      "metadata": {
        "id": "7UGaKyeQ3m0F"
      }
    },
    {
      "cell_type": "code",
      "source": [
        "# nltk stopwords 설치\n",
        "\n",
        "import nltk\n",
        "nltk.download('stopwords')"
      ],
      "metadata": {
        "colab": {
          "base_uri": "https://localhost:8080/"
        },
        "id": "B-H5gx6X38m0",
        "outputId": "3139769a-c17d-43a5-b706-181d25598b4e"
      },
      "execution_count": null,
      "outputs": [
        {
          "output_type": "stream",
          "name": "stderr",
          "text": [
            "[nltk_data] Downloading package stopwords to /root/nltk_data...\n",
            "[nltk_data]   Unzipping corpora/stopwords.zip.\n"
          ]
        },
        {
          "output_type": "execute_result",
          "data": {
            "text/plain": [
              "True"
            ]
          },
          "metadata": {},
          "execution_count": 13
        }
      ]
    },
    {
      "cell_type": "code",
      "source": [
        "# 영어 stopword list 확인\n",
        "# 영어 불용어 총 179개\n",
        "\n",
        "from nltk.corpus import stopwords\n",
        "stop_words = stopwords.words('english')\n",
        "print(stop_words)\n",
        "print(len(stop_words))"
      ],
      "metadata": {
        "colab": {
          "base_uri": "https://localhost:8080/"
        },
        "id": "RObLtvJ438db",
        "outputId": "f2477b90-ae7c-4621-f8e3-b16bbe32b65c"
      },
      "execution_count": null,
      "outputs": [
        {
          "output_type": "stream",
          "name": "stdout",
          "text": [
            "['i', 'me', 'my', 'myself', 'we', 'our', 'ours', 'ourselves', 'you', \"you're\", \"you've\", \"you'll\", \"you'd\", 'your', 'yours', 'yourself', 'yourselves', 'he', 'him', 'his', 'himself', 'she', \"she's\", 'her', 'hers', 'herself', 'it', \"it's\", 'its', 'itself', 'they', 'them', 'their', 'theirs', 'themselves', 'what', 'which', 'who', 'whom', 'this', 'that', \"that'll\", 'these', 'those', 'am', 'is', 'are', 'was', 'were', 'be', 'been', 'being', 'have', 'has', 'had', 'having', 'do', 'does', 'did', 'doing', 'a', 'an', 'the', 'and', 'but', 'if', 'or', 'because', 'as', 'until', 'while', 'of', 'at', 'by', 'for', 'with', 'about', 'against', 'between', 'into', 'through', 'during', 'before', 'after', 'above', 'below', 'to', 'from', 'up', 'down', 'in', 'out', 'on', 'off', 'over', 'under', 'again', 'further', 'then', 'once', 'here', 'there', 'when', 'where', 'why', 'how', 'all', 'any', 'both', 'each', 'few', 'more', 'most', 'other', 'some', 'such', 'no', 'nor', 'not', 'only', 'own', 'same', 'so', 'than', 'too', 'very', 's', 't', 'can', 'will', 'just', 'don', \"don't\", 'should', \"should've\", 'now', 'd', 'll', 'm', 'o', 're', 've', 'y', 'ain', 'aren', \"aren't\", 'couldn', \"couldn't\", 'didn', \"didn't\", 'doesn', \"doesn't\", 'hadn', \"hadn't\", 'hasn', \"hasn't\", 'haven', \"haven't\", 'isn', \"isn't\", 'ma', 'mightn', \"mightn't\", 'mustn', \"mustn't\", 'needn', \"needn't\", 'shan', \"shan't\", 'shouldn', \"shouldn't\", 'wasn', \"wasn't\", 'weren', \"weren't\", 'won', \"won't\", 'wouldn', \"wouldn't\"]\n",
            "179\n"
          ]
        }
      ]
    },
    {
      "cell_type": "code",
      "source": [
        "# english stopwords 삭제\n",
        "# ' '.join([ ])\n",
        "\n",
        "\n",
        "from nltk.corpus import stopwords\n",
        "from nltk.tokenize import word_tokenize\n",
        "stop_words = set(stopwords.words('english'))\n",
        "\n",
        "sentence = \"She sells seashells on the seashore.\"\n",
        "' '.join([word for word in word_tokenize(sentence) if word.lower() not in stop_words])"
      ],
      "metadata": {
        "colab": {
          "base_uri": "https://localhost:8080/",
          "height": 36
        },
        "id": "rfbNx9zg3qri",
        "outputId": "39e3cfa9-7fd5-4aae-95b1-0182707e4c69"
      },
      "execution_count": null,
      "outputs": [
        {
          "output_type": "execute_result",
          "data": {
            "text/plain": [
              "'sells seashells seashore .'"
            ],
            "application/vnd.google.colaboratory.intrinsic+json": {
              "type": "string"
            }
          },
          "metadata": {},
          "execution_count": 15
        }
      ]
    },
    {
      "cell_type": "markdown",
      "source": [
        "# 불용어 삭제 후 결과 출력 방법-**2**"
      ],
      "metadata": {
        "id": "OfTPqtlC46SY"
      }
    },
    {
      "cell_type": "code",
      "source": [
        "# result = []\n",
        "\n",
        "from nltk.corpus import stopwords\n",
        "from nltk.tokenize import word_tokenize\n",
        "\n",
        "sentence = 'She sells seashells on the seashore'\n",
        "\n",
        "word_tokens = word_tokenize(sentence)\n",
        "\n",
        "result = []\n",
        "for i in word_tokens:\n",
        "  if i not in stop_words:\n",
        "    result.append(i)\n",
        "\n",
        "print(word_tokens, '\\n')\n",
        "print(result)\n"
      ],
      "metadata": {
        "colab": {
          "base_uri": "https://localhost:8080/"
        },
        "id": "b2xPJZ1m5BfT",
        "outputId": "92d98ba5-79b0-4439-8daa-e907cca384e6"
      },
      "execution_count": null,
      "outputs": [
        {
          "output_type": "stream",
          "name": "stdout",
          "text": [
            "['She', 'sells', 'seashells', 'on', 'the', 'seashore'] \n",
            "\n",
            "['She', 'sells', 'seashells', 'seashore']\n"
          ]
        }
      ]
    },
    {
      "cell_type": "markdown",
      "source": [
        "# 영어 불용어 **추가**\n",
        "\n",
        "* 영어 불용어는 179개\n",
        "* 쉼표, 마침표 등이 포함되어 있지 않음\n",
        "\n",
        "\n"
      ],
      "metadata": {
        "id": "Cy3eD9v_6aNb"
      }
    },
    {
      "cell_type": "code",
      "source": [
        "# 불용어 추가\n",
        "\n",
        "from nltk.corpus import stopwords\n",
        "from nltk.tokenize import word_tokenize\n",
        "stop_words =  stopwords.words('english')\n",
        "# 불용어 추가\n",
        "stop_words.append(\",\")\n",
        "stop_words.append(\".\")\n",
        "stop_words.append(\"!\")\n",
        "stop_words.append(\"#\")\n",
        "stop_words.append(\"$\")\n",
        "stop_words.append(\"'\")\n",
        "stop_words.append('\"')\n",
        "stop_words.append(\";\")\n",
        "stop_words.append(\"/\")\n",
        "stop_words.append(\"\\\\\")\n",
        "\n",
        "sentence = '''\n",
        "One morning, when \"Gregor $$ Samsa\" woke from troubled dreams\\\\, he found\n",
        "himself transformed in his bed into a horrible vermin. ;;//\"\" \\\\ He lay on his\n",
        "armour-like back, and if 29857  he lifted his head #$ ~ a little he could see his\n",
        "brown belly, slightly domed and divided by arches into stiff sections.\n",
        "'''\n",
        "\n",
        "word_tokens = word_tokenize(sentence)\n",
        "\n",
        "\n",
        "result = []\n",
        "\n",
        "for i in word_tokens:\n",
        "  if i not in stop_words:\n",
        "     result.append(i)\n",
        "\n",
        "print(\"words in the sentence: \", '\\n', word_tokens)\n",
        "print('\\n', result)\n",
        "\n"
      ],
      "metadata": {
        "id": "w7uw3UXF6xoT",
        "colab": {
          "base_uri": "https://localhost:8080/"
        },
        "outputId": "74847b41-ab53-417d-8215-c878ff1e34c6"
      },
      "execution_count": 32,
      "outputs": [
        {
          "output_type": "stream",
          "name": "stdout",
          "text": [
            "words in the sentence:  \n",
            " ['One', 'morning', ',', 'when', '``', 'Gregor', '$', '$', 'Samsa', \"''\", 'woke', 'from', 'troubled', 'dreams\\\\', ',', 'he', 'found', 'himself', 'transformed', 'in', 'his', 'bed', 'into', 'a', 'horrible', 'vermin', '.', ';', ';', '//', \"''\", \"''\", '\\\\', 'He', 'lay', 'on', 'his', 'armour-like', 'back', ',', 'and', 'if', '29857', 'he', 'lifted', 'his', 'head', '#', '$', '~', 'a', 'little', 'he', 'could', 'see', 'his', 'brown', 'belly', ',', 'slightly', 'domed', 'and', 'divided', 'by', 'arches', 'into', 'stiff', 'sections', '.']\n",
            "\n",
            " ['One', 'morning', '``', 'Gregor', 'Samsa', \"''\", 'woke', 'troubled', 'dreams\\\\', 'found', 'transformed', 'bed', 'horrible', 'vermin', '//', \"''\", \"''\", 'He', 'lay', 'armour-like', 'back', '29857', 'lifted', 'head', '~', 'little', 'could', 'see', 'brown', 'belly', 'slightly', 'domed', 'divided', 'arches', 'stiff', 'sections']\n"
          ]
        }
      ]
    },
    {
      "cell_type": "code",
      "source": [
        "# 불용어 제거: 정규표현식 사용\n",
        "\n",
        "from nltk.tokenize import word_tokenize\n",
        "from nltk.corpus import stopwords\n",
        "import re\n",
        "pattern_punctuation = re.compile(r'[^\\w\\s]')\n",
        "stop_words = stopwords.words('english')\n",
        "stop_words.append(\"she\")\n",
        "stop_words.append(\"he\")\n",
        "stop_words.append(\"He\")\n",
        "stop_words.append(\"She\")\n",
        "stop_words.append(\"I\")\n",
        "stop_words.append(\"you\")\n",
        "stop_words.append(\"You\")\n",
        "\n",
        "sentence = '''\n",
        "One morning, when \"Gregor $$ Samsa\" woke from troubled dreams\\\\, he found\n",
        "himself transformed in his bed into a horrible vermin. ;;//\"\" \\\\ He lay on his\n",
        "armour-like back, and if 29857  he lifted his head #$ ~ a little he could see his\n",
        "brown belly, slightly domed and divided by arches into stiff sections.\n",
        "'''\n",
        "\n",
        "result_01 = pattern_punctuation.sub('', sentence)\n",
        "word_tokens = word_tokenize(result_01)\n",
        "result_02 = []\n",
        "\n",
        "\n",
        "for i in word_tokens:\n",
        "  if i not in stop_words:\n",
        "    result_02.append(i)\n",
        "\n",
        "print(result_02)"
      ],
      "metadata": {
        "colab": {
          "base_uri": "https://localhost:8080/"
        },
        "id": "HeI1XYRfBDN_",
        "outputId": "064068f6-c511-440b-8d6c-db07a05bb1b9"
      },
      "execution_count": 41,
      "outputs": [
        {
          "output_type": "stream",
          "name": "stdout",
          "text": [
            "['One', 'morning', 'Gregor', 'Samsa', 'woke', 'troubled', 'dreams', 'found', 'transformed', 'bed', 'horrible', 'vermin', 'lay', 'armourlike', 'back', '29857', 'lifted', 'head', 'little', 'could', 'see', 'brown', 'belly', 'slightly', 'domed', 'divided', 'arches', 'stiff', 'sections']\n"
          ]
        }
      ]
    },
    {
      "cell_type": "code",
      "source": [],
      "metadata": {
        "id": "fMat9_HmBDEc"
      },
      "execution_count": null,
      "outputs": []
    },
    {
      "cell_type": "markdown",
      "source": [
        "불용어 제거 3가지 방법\n",
        "\n",
        "* translate()  \n",
        "* string.replace() *\n",
        "* re.sub()\n",
        "\n",
        "이 중에서 정규표현식이 가징 유연하고 좋음. WHY?\n",
        "  - 불용어 추가, 삭제 편리!"
      ],
      "metadata": {
        "id": "z5y9-ix4_i9n"
      }
    },
    {
      "cell_type": "markdown",
      "source": [],
      "metadata": {
        "id": "BJgd3cLV_zpg"
      }
    },
    {
      "cell_type": "code",
      "source": [
        "# strings 패키지의 translate() 함수를 사용, 특수기호 제거\n",
        "\n",
        "import string\n",
        "input_string = '!hi. wh?at is the weat[h]er lik?e. !@##$%%^^&*)_+{}|?\"'\n",
        "output_string = input_string.translate(str.maketrans('', '', string.punctuation))\n",
        "print(output_string)\n",
        "# Returns: hi what is the weather like\n",
        "# 제거되는 특수기호\n",
        "print(string.punctuation)\n",
        "# Returns: !\"#$%&'()*+,-./:;<=>?@[\\]^_`{|}~"
      ],
      "metadata": {
        "id": "oLKVrUhu_0MM"
      },
      "execution_count": null,
      "outputs": []
    },
    {
      "cell_type": "code",
      "source": [
        "# 정규표현식을 사용하여 특수기호를 제거하는 예제\n",
        "\n",
        "import re\n",
        "input_string = '!hi. wh?at is the weat[h]er lik?e. !@##$%%^^&*)_+{}|?\"'\n",
        "output_string = re.sub(r'[^\\w\\s]', '', input_string)\n",
        "print(output_string)\n",
        "# Returns: hi what is the weather like\n",
        "\n",
        "# 정규표현식 컴파일 = 조금 더 빠름\n",
        "pattern_punctuation = re.compile(r'[^\\w\\s]')\n",
        "output_string = pattern_punctuation.sub('', input_string)\n",
        "print(output_string)"
      ],
      "metadata": {
        "id": "BY-GabkY_0aH"
      },
      "execution_count": null,
      "outputs": []
    },
    {
      "cell_type": "code",
      "source": [
        "# string.replace() 함수를 사용하여 특수기호를 제거\n",
        "\n",
        "import string\n",
        "input_string = '!hi. wh?at is the weat[h]er lik?e. !@##$%%^^&*)_+{}|?\"'\n",
        "for character in string.punctuation:\n",
        "    input_string = input_string.replace(character, '')\n",
        "print(input_string)\n",
        "# Returns: hi what is the weather like"
      ],
      "metadata": {
        "id": "a48KMTnN_0oU"
      },
      "execution_count": null,
      "outputs": []
    }
  ]
}